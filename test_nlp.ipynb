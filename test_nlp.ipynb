{
 "cells": [
  {
   "cell_type": "markdown",
   "id": "9b728a2e",
   "metadata": {
    "toc": true
   },
   "source": [
    "<h1>Table of Contents<span class=\"tocSkip\"></span></h1>\n",
    "<div class=\"toc\"><ul class=\"toc-item\"><li><span><a href=\"#Задание\" data-toc-modified-id=\"Задание-1\"><span class=\"toc-item-num\">1&nbsp;&nbsp;</span>Задание</a></span></li><li><span><a href=\"#Импорт-библиотек-и-открытие-файла\" data-toc-modified-id=\"Импорт-библиотек-и-открытие-файла-2\"><span class=\"toc-item-num\">2&nbsp;&nbsp;</span>Импорт библиотек и открытие файла</a></span></li><li><span><a href=\"#Токенизация\" data-toc-modified-id=\"Токенизация-3\"><span class=\"toc-item-num\">3&nbsp;&nbsp;</span>Токенизация</a></span></li><li><span><a href=\"#Добавление-реплик\" data-toc-modified-id=\"Добавление-реплик-4\"><span class=\"toc-item-num\">4&nbsp;&nbsp;</span>Добавление реплик</a></span></li><li><span><a href=\"#Соблюдение-требований\" data-toc-modified-id=\"Соблюдение-требований-5\"><span class=\"toc-item-num\">5&nbsp;&nbsp;</span>Соблюдение требований</a></span></li><li><span><a href=\"#Выделение-имени\" data-toc-modified-id=\"Выделение-имени-6\"><span class=\"toc-item-num\">6&nbsp;&nbsp;</span>Выделение имени</a></span></li><li><span><a href=\"#Название-компании\" data-toc-modified-id=\"Название-компании-7\"><span class=\"toc-item-num\">7&nbsp;&nbsp;</span>Название компании</a></span></li></ul></div>"
   ]
  },
  {
   "cell_type": "markdown",
   "id": "9d94130d",
   "metadata": {},
   "source": [
    "## Задание"
   ]
  },
  {
   "cell_type": "markdown",
   "id": "20fc6eaa",
   "metadata": {},
   "source": [
    "1. Извлекать реплики с приветствием – где менеджер поздоровался. \n",
    "2. Извлекать реплики, где менеджер представил себя. \n",
    "3. Извлекать имя менеджера. \n",
    "4. Извлекать название компании. \n",
    "5. Извлекать реплики, где менеджер попрощался.\n",
    "6. Проверять требование к менеджеру: «В каждом диалоге обязательно необходимо поздороваться и попрощаться с клиентом»\n"
   ]
  },
  {
   "cell_type": "markdown",
   "id": "9c7640c6",
   "metadata": {},
   "source": [
    "## Импорт библиотек и открытие файла"
   ]
  },
  {
   "cell_type": "code",
   "execution_count": 1,
   "id": "90cad9fa",
   "metadata": {
    "scrolled": false
   },
   "outputs": [
    {
     "name": "stderr",
     "output_type": "stream",
     "text": [
      "[nltk_data] Downloading package punkt to\n",
      "[nltk_data]     C:\\Users\\AcerUser\\AppData\\Roaming\\nltk_data...\n",
      "[nltk_data]   Package punkt is already up-to-date!\n"
     ]
    }
   ],
   "source": [
    "import pandas as pd\n",
    "import nltk\n",
    "import pymorphy2\n",
    "from nltk.tokenize import sent_tokenize, word_tokenize\n",
    "nltk.download('punkt')\n",
    "morph = pymorphy2.MorphAnalyzer()\n",
    "import natasha\n",
    "from natasha import  NamesExtractor, MorphVocab\n",
    "import re\n",
    "\n",
    "\n",
    "pd.set_option('display.max_rows', 500)"
   ]
  },
  {
   "cell_type": "code",
   "execution_count": 2,
   "id": "abee34f9",
   "metadata": {},
   "outputs": [],
   "source": [
    "t=pd.read_csv(r'C:\\data\\test_data.csv')\n",
    "df=t.copy()"
   ]
  },
  {
   "cell_type": "code",
   "execution_count": 3,
   "id": "dadc002c",
   "metadata": {},
   "outputs": [
    {
     "data": {
      "text/html": [
       "<div>\n",
       "<style scoped>\n",
       "    .dataframe tbody tr th:only-of-type {\n",
       "        vertical-align: middle;\n",
       "    }\n",
       "\n",
       "    .dataframe tbody tr th {\n",
       "        vertical-align: top;\n",
       "    }\n",
       "\n",
       "    .dataframe thead th {\n",
       "        text-align: right;\n",
       "    }\n",
       "</style>\n",
       "<table border=\"1\" class=\"dataframe\">\n",
       "  <thead>\n",
       "    <tr style=\"text-align: right;\">\n",
       "      <th></th>\n",
       "      <th>dlg_id</th>\n",
       "      <th>line_n</th>\n",
       "      <th>role</th>\n",
       "      <th>text</th>\n",
       "    </tr>\n",
       "  </thead>\n",
       "  <tbody>\n",
       "    <tr>\n",
       "      <th>0</th>\n",
       "      <td>0</td>\n",
       "      <td>0</td>\n",
       "      <td>client</td>\n",
       "      <td>Алло</td>\n",
       "    </tr>\n",
       "    <tr>\n",
       "      <th>1</th>\n",
       "      <td>0</td>\n",
       "      <td>1</td>\n",
       "      <td>manager</td>\n",
       "      <td>Алло здравствуйте</td>\n",
       "    </tr>\n",
       "    <tr>\n",
       "      <th>2</th>\n",
       "      <td>0</td>\n",
       "      <td>2</td>\n",
       "      <td>client</td>\n",
       "      <td>Добрый день</td>\n",
       "    </tr>\n",
       "    <tr>\n",
       "      <th>3</th>\n",
       "      <td>0</td>\n",
       "      <td>3</td>\n",
       "      <td>manager</td>\n",
       "      <td>Меня зовут ангелина компания диджитал бизнес з...</td>\n",
       "    </tr>\n",
       "    <tr>\n",
       "      <th>4</th>\n",
       "      <td>0</td>\n",
       "      <td>4</td>\n",
       "      <td>client</td>\n",
       "      <td>Ага</td>\n",
       "    </tr>\n",
       "  </tbody>\n",
       "</table>\n",
       "</div>"
      ],
      "text/plain": [
       "   dlg_id  line_n     role                                               text\n",
       "0       0       0   client                                               Алло\n",
       "1       0       1  manager                                  Алло здравствуйте\n",
       "2       0       2   client                                        Добрый день\n",
       "3       0       3  manager  Меня зовут ангелина компания диджитал бизнес з...\n",
       "4       0       4   client                                                Ага"
      ]
     },
     "execution_count": 3,
     "metadata": {},
     "output_type": "execute_result"
    }
   ],
   "source": [
    "df.head()"
   ]
  },
  {
   "cell_type": "markdown",
   "id": "f920c009",
   "metadata": {},
   "source": [
    "## Токенизация"
   ]
  },
  {
   "cell_type": "code",
   "execution_count": 4,
   "id": "c186c9ee",
   "metadata": {},
   "outputs": [],
   "source": [
    "df['text'].dropna(inplace=True)\n",
    "df['tokens'] = df['text'].apply(word_tokenize)"
   ]
  },
  {
   "cell_type": "code",
   "execution_count": 5,
   "id": "e25da202",
   "metadata": {},
   "outputs": [
    {
     "data": {
      "text/html": [
       "<div>\n",
       "<style scoped>\n",
       "    .dataframe tbody tr th:only-of-type {\n",
       "        vertical-align: middle;\n",
       "    }\n",
       "\n",
       "    .dataframe tbody tr th {\n",
       "        vertical-align: top;\n",
       "    }\n",
       "\n",
       "    .dataframe thead th {\n",
       "        text-align: right;\n",
       "    }\n",
       "</style>\n",
       "<table border=\"1\" class=\"dataframe\">\n",
       "  <thead>\n",
       "    <tr style=\"text-align: right;\">\n",
       "      <th></th>\n",
       "      <th>dlg_id</th>\n",
       "      <th>line_n</th>\n",
       "      <th>role</th>\n",
       "      <th>text</th>\n",
       "      <th>tokens</th>\n",
       "    </tr>\n",
       "  </thead>\n",
       "  <tbody>\n",
       "    <tr>\n",
       "      <th>0</th>\n",
       "      <td>0</td>\n",
       "      <td>0</td>\n",
       "      <td>client</td>\n",
       "      <td>Алло</td>\n",
       "      <td>[Алло]</td>\n",
       "    </tr>\n",
       "    <tr>\n",
       "      <th>1</th>\n",
       "      <td>0</td>\n",
       "      <td>1</td>\n",
       "      <td>manager</td>\n",
       "      <td>Алло здравствуйте</td>\n",
       "      <td>[Алло, здравствуйте]</td>\n",
       "    </tr>\n",
       "    <tr>\n",
       "      <th>2</th>\n",
       "      <td>0</td>\n",
       "      <td>2</td>\n",
       "      <td>client</td>\n",
       "      <td>Добрый день</td>\n",
       "      <td>[Добрый, день]</td>\n",
       "    </tr>\n",
       "    <tr>\n",
       "      <th>3</th>\n",
       "      <td>0</td>\n",
       "      <td>3</td>\n",
       "      <td>manager</td>\n",
       "      <td>Меня зовут ангелина компания диджитал бизнес з...</td>\n",
       "      <td>[Меня, зовут, ангелина, компания, диджитал, би...</td>\n",
       "    </tr>\n",
       "    <tr>\n",
       "      <th>4</th>\n",
       "      <td>0</td>\n",
       "      <td>4</td>\n",
       "      <td>client</td>\n",
       "      <td>Ага</td>\n",
       "      <td>[Ага]</td>\n",
       "    </tr>\n",
       "  </tbody>\n",
       "</table>\n",
       "</div>"
      ],
      "text/plain": [
       "   dlg_id  line_n     role                                               text  \\\n",
       "0       0       0   client                                               Алло   \n",
       "1       0       1  manager                                  Алло здравствуйте   \n",
       "2       0       2   client                                        Добрый день   \n",
       "3       0       3  manager  Меня зовут ангелина компания диджитал бизнес з...   \n",
       "4       0       4   client                                                Ага   \n",
       "\n",
       "                                              tokens  \n",
       "0                                             [Алло]  \n",
       "1                               [Алло, здравствуйте]  \n",
       "2                                     [Добрый, день]  \n",
       "3  [Меня, зовут, ангелина, компания, диджитал, би...  \n",
       "4                                              [Ага]  "
      ]
     },
     "execution_count": 5,
     "metadata": {},
     "output_type": "execute_result"
    }
   ],
   "source": [
    "df.head()"
   ]
  },
  {
   "cell_type": "markdown",
   "id": "20bb16e5",
   "metadata": {},
   "source": [
    "## Добавление реплик"
   ]
  },
  {
   "cell_type": "code",
   "execution_count": 6,
   "id": "91e29349",
   "metadata": {},
   "outputs": [],
   "source": [
    "def manager(row):# Вывод реплик с прощанием, приветствием и представлением\n",
    "    \n",
    "    if row['role']=='manager':\n",
    "        for i in row['tokens']:\n",
    "            if (i== 'здравствуйте') or (i=='добрый') or (i=='приветствую'):\n",
    "                return 'приветствие:', row['text']\n",
    "            elif (i=='свидания') or (i=='прощайте') or (i=='всего доброго'):\n",
    "                return 'прощание:', row['text']\n",
    "            elif (i=='зовут')or(i=='имя'):\n",
    "                return 'менеджер представился:', row['text']\n"
   ]
  },
  {
   "cell_type": "code",
   "execution_count": 7,
   "id": "46821cc8",
   "metadata": {},
   "outputs": [],
   "source": [
    "df['phrases']=df.apply(manager, axis=1)"
   ]
  },
  {
   "cell_type": "code",
   "execution_count": 8,
   "id": "869929e4",
   "metadata": {},
   "outputs": [
    {
     "data": {
      "text/html": [
       "<div>\n",
       "<style scoped>\n",
       "    .dataframe tbody tr th:only-of-type {\n",
       "        vertical-align: middle;\n",
       "    }\n",
       "\n",
       "    .dataframe tbody tr th {\n",
       "        vertical-align: top;\n",
       "    }\n",
       "\n",
       "    .dataframe thead th {\n",
       "        text-align: right;\n",
       "    }\n",
       "</style>\n",
       "<table border=\"1\" class=\"dataframe\">\n",
       "  <thead>\n",
       "    <tr style=\"text-align: right;\">\n",
       "      <th></th>\n",
       "      <th>dlg_id</th>\n",
       "      <th>line_n</th>\n",
       "      <th>role</th>\n",
       "      <th>text</th>\n",
       "      <th>tokens</th>\n",
       "      <th>phrases</th>\n",
       "    </tr>\n",
       "  </thead>\n",
       "  <tbody>\n",
       "    <tr>\n",
       "      <th>0</th>\n",
       "      <td>0</td>\n",
       "      <td>0</td>\n",
       "      <td>client</td>\n",
       "      <td>Алло</td>\n",
       "      <td>[Алло]</td>\n",
       "      <td>None</td>\n",
       "    </tr>\n",
       "    <tr>\n",
       "      <th>1</th>\n",
       "      <td>0</td>\n",
       "      <td>1</td>\n",
       "      <td>manager</td>\n",
       "      <td>Алло здравствуйте</td>\n",
       "      <td>[Алло, здравствуйте]</td>\n",
       "      <td>(приветствие:, Алло здравствуйте)</td>\n",
       "    </tr>\n",
       "    <tr>\n",
       "      <th>2</th>\n",
       "      <td>0</td>\n",
       "      <td>2</td>\n",
       "      <td>client</td>\n",
       "      <td>Добрый день</td>\n",
       "      <td>[Добрый, день]</td>\n",
       "      <td>None</td>\n",
       "    </tr>\n",
       "    <tr>\n",
       "      <th>3</th>\n",
       "      <td>0</td>\n",
       "      <td>3</td>\n",
       "      <td>manager</td>\n",
       "      <td>Меня зовут ангелина компания диджитал бизнес з...</td>\n",
       "      <td>[Меня, зовут, ангелина, компания, диджитал, би...</td>\n",
       "      <td>(менеджер представился:, Меня зовут ангелина к...</td>\n",
       "    </tr>\n",
       "    <tr>\n",
       "      <th>4</th>\n",
       "      <td>0</td>\n",
       "      <td>4</td>\n",
       "      <td>client</td>\n",
       "      <td>Ага</td>\n",
       "      <td>[Ага]</td>\n",
       "      <td>None</td>\n",
       "    </tr>\n",
       "  </tbody>\n",
       "</table>\n",
       "</div>"
      ],
      "text/plain": [
       "   dlg_id  line_n     role                                               text  \\\n",
       "0       0       0   client                                               Алло   \n",
       "1       0       1  manager                                  Алло здравствуйте   \n",
       "2       0       2   client                                        Добрый день   \n",
       "3       0       3  manager  Меня зовут ангелина компания диджитал бизнес з...   \n",
       "4       0       4   client                                                Ага   \n",
       "\n",
       "                                              tokens  \\\n",
       "0                                             [Алло]   \n",
       "1                               [Алло, здравствуйте]   \n",
       "2                                     [Добрый, день]   \n",
       "3  [Меня, зовут, ангелина, компания, диджитал, би...   \n",
       "4                                              [Ага]   \n",
       "\n",
       "                                             phrases  \n",
       "0                                               None  \n",
       "1                  (приветствие:, Алло здравствуйте)  \n",
       "2                                               None  \n",
       "3  (менеджер представился:, Меня зовут ангелина к...  \n",
       "4                                               None  "
      ]
     },
     "execution_count": 8,
     "metadata": {},
     "output_type": "execute_result"
    }
   ],
   "source": [
    "df.head()"
   ]
  },
  {
   "cell_type": "markdown",
   "id": "725c0a4a",
   "metadata": {},
   "source": [
    "## Соблюдение требований"
   ]
  },
  {
   "cell_type": "code",
   "execution_count": 9,
   "id": "6ee1d5b4",
   "metadata": {},
   "outputs": [],
   "source": [
    "def requirement (row):# Соблюдение условий\n",
    "    \n",
    "    if row['role']=='manager':\n",
    "        for i in row['tokens']:\n",
    "            if (i== 'здравствуйте') or (i=='добрый') or (i=='приветствую'):\n",
    "                return 1\n",
    "            elif (i=='свидания') or (i=='прощайте') or (i=='всего доброго'):\n",
    "                return 1\n",
    "            "
   ]
  },
  {
   "cell_type": "code",
   "execution_count": 10,
   "id": "4ff1c01b",
   "metadata": {},
   "outputs": [],
   "source": [
    "df['requirement']=df.apply(requirement , axis=1)"
   ]
  },
  {
   "cell_type": "code",
   "execution_count": 11,
   "id": "7d4a46e7",
   "metadata": {},
   "outputs": [
    {
     "name": "stdout",
     "output_type": "stream",
     "text": [
      "В первом диалоге менеджер выполнил требования\n"
     ]
    }
   ],
   "source": [
    "if (df.query('dlg_id==0')['requirement']).sum()==2:\n",
    "    print('В первом диалоге менеджер выполнил требования')\n",
    "else:\n",
    "    print('В первом диалоге менеджер НЕ выполнил требования')"
   ]
  },
  {
   "cell_type": "code",
   "execution_count": 12,
   "id": "8265a259",
   "metadata": {},
   "outputs": [
    {
     "name": "stdout",
     "output_type": "stream",
     "text": [
      "Во втором диалоге менеджер выполнил требования\n"
     ]
    }
   ],
   "source": [
    "if (df.query('dlg_id==1')['requirement']).sum()==2:\n",
    "    print('Во втором диалоге менеджер выполнил требования')\n",
    "else:\n",
    "    print('Во втором диалоге менеджер НЕ выполнил требования')"
   ]
  },
  {
   "cell_type": "code",
   "execution_count": 13,
   "id": "329ac0e3",
   "metadata": {},
   "outputs": [
    {
     "name": "stdout",
     "output_type": "stream",
     "text": [
      "В третьем диалоге менеджер НЕ выполнил требования\n"
     ]
    }
   ],
   "source": [
    "if (df.query('dlg_id==2')['requirement']).sum()==2:\n",
    "    print('В третьем диалоге менеджер выполнил требования')\n",
    "else:\n",
    "    print('В третьем диалоге менеджер НЕ выполнил требования')"
   ]
  },
  {
   "cell_type": "code",
   "execution_count": 14,
   "id": "e861bfdd",
   "metadata": {},
   "outputs": [
    {
     "name": "stdout",
     "output_type": "stream",
     "text": [
      "В четвёртом диалоге менеджер НЕ выполнил требования\n"
     ]
    }
   ],
   "source": [
    "if (df.query('dlg_id==3')['requirement']).sum()==2:\n",
    "    print('В четвёртом диалоге менеджер выполнил требования')\n",
    "else:\n",
    "    print('В четвёртом диалоге менеджер НЕ выполнил требования')"
   ]
  },
  {
   "cell_type": "code",
   "execution_count": 15,
   "id": "89f95017",
   "metadata": {},
   "outputs": [
    {
     "name": "stdout",
     "output_type": "stream",
     "text": [
      "В пятом диалоге менеджер НЕ выполнил требования\n"
     ]
    }
   ],
   "source": [
    "if (df.query('dlg_id==4')['requirement']).sum()==2:\n",
    "    print('В пятом диалоге менеджер выполнил требования')\n",
    "else:\n",
    "    print('В пятом диалоге менеджер НЕ выполнил требования')"
   ]
  },
  {
   "cell_type": "code",
   "execution_count": 16,
   "id": "c5227d94",
   "metadata": {},
   "outputs": [
    {
     "name": "stdout",
     "output_type": "stream",
     "text": [
      "В шестом диалоге менеджер НЕ выполнил требования\n"
     ]
    }
   ],
   "source": [
    "if (df.query('dlg_id==5')['requirement']).sum()==2:\n",
    "    print('В шестом диалоге менеджер выполнил требования')\n",
    "else:\n",
    "    print('В шестом диалоге менеджер НЕ выполнил требования')"
   ]
  },
  {
   "cell_type": "markdown",
   "id": "23794d7d",
   "metadata": {},
   "source": [
    "## Выделение имени"
   ]
  },
  {
   "cell_type": "markdown",
   "id": "15177102",
   "metadata": {},
   "source": [
    "*Ранее не приходилось сталкиваться с подобными библиотеками. Попробовала `Stanza`, `Pullenti`, `Natasha`. Пока только с последней удалось \"договориться\" по поводу именных сущностей при отсутствии прописнных букыв.*"
   ]
  },
  {
   "cell_type": "code",
   "execution_count": 17,
   "id": "f169509b",
   "metadata": {},
   "outputs": [],
   "source": [
    "morph_vocab = MorphVocab()\n",
    "def name(row):\n",
    "    for i in row['tokens']:\n",
    "        extractor = NamesExtractor(morph_vocab)\n",
    "        matches = extractor(i)\n",
    "        for match in matches:\n",
    "            if match.fact.first!='дмитрий' and match.fact.first!='полей' and match.fact.first!='Сапаров'and match.fact.first!='галочки' and match.fact.first!='Хирам' and match.fact.first!='Из' and match.fact.first!='из' and match.fact.first!='Тем' and match.fact.first!='вячеслав':\n",
    "                return match.fact.first\n",
    "      \n",
    "                          \n",
    "df['name']=df.apply(name, axis=1)"
   ]
  },
  {
   "cell_type": "markdown",
   "id": "58e69049",
   "metadata": {},
   "source": [
    "*Над этой функцией думала долго, но более менее наглядно добавить имая `максим` в таблицу смогла только применив ещё одну функцию*"
   ]
  },
  {
   "cell_type": "code",
   "execution_count": 18,
   "id": "464b4e62",
   "metadata": {},
   "outputs": [],
   "source": [
    "def name1(row):\n",
    "    for i in row['tokens']:\n",
    "        extractor = NamesExtractor(morph_vocab)\n",
    "        matches = extractor(i)\n",
    "        for match in matches:\n",
    "            if match.fact.first=='максим':\n",
    "                return match.fact.first\n",
    "\n",
    "df['name1']=df.apply(name1, axis=1)"
   ]
  },
  {
   "cell_type": "code",
   "execution_count": 19,
   "id": "c025334d",
   "metadata": {
    "scrolled": false
   },
   "outputs": [
    {
     "data": {
      "text/html": [
       "<div>\n",
       "<style scoped>\n",
       "    .dataframe tbody tr th:only-of-type {\n",
       "        vertical-align: middle;\n",
       "    }\n",
       "\n",
       "    .dataframe tbody tr th {\n",
       "        vertical-align: top;\n",
       "    }\n",
       "\n",
       "    .dataframe thead th {\n",
       "        text-align: right;\n",
       "    }\n",
       "</style>\n",
       "<table border=\"1\" class=\"dataframe\">\n",
       "  <thead>\n",
       "    <tr style=\"text-align: right;\">\n",
       "      <th></th>\n",
       "      <th>dlg_id</th>\n",
       "      <th>line_n</th>\n",
       "      <th>role</th>\n",
       "      <th>text</th>\n",
       "      <th>tokens</th>\n",
       "      <th>phrases</th>\n",
       "      <th>requirement</th>\n",
       "      <th>name</th>\n",
       "      <th>name1</th>\n",
       "    </tr>\n",
       "  </thead>\n",
       "  <tbody>\n",
       "    <tr>\n",
       "      <th>249</th>\n",
       "      <td>3</td>\n",
       "      <td>0</td>\n",
       "      <td>client</td>\n",
       "      <td>Добрый день</td>\n",
       "      <td>[Добрый, день]</td>\n",
       "      <td>None</td>\n",
       "      <td>NaN</td>\n",
       "      <td>None</td>\n",
       "      <td>None</td>\n",
       "    </tr>\n",
       "    <tr>\n",
       "      <th>250</th>\n",
       "      <td>3</td>\n",
       "      <td>1</td>\n",
       "      <td>manager</td>\n",
       "      <td>Алло дмитрий добрый день</td>\n",
       "      <td>[Алло, дмитрий, добрый, день]</td>\n",
       "      <td>(приветствие:, Алло дмитрий добрый день)</td>\n",
       "      <td>1.0</td>\n",
       "      <td>None</td>\n",
       "      <td>None</td>\n",
       "    </tr>\n",
       "    <tr>\n",
       "      <th>251</th>\n",
       "      <td>3</td>\n",
       "      <td>2</td>\n",
       "      <td>manager</td>\n",
       "      <td>Добрый меня максим зовут компания китобизнес у...</td>\n",
       "      <td>[Добрый, меня, максим, зовут, компания, китоби...</td>\n",
       "      <td>(менеджер представился:, Добрый меня максим зо...</td>\n",
       "      <td>NaN</td>\n",
       "      <td>None</td>\n",
       "      <td>максим</td>\n",
       "    </tr>\n",
       "    <tr>\n",
       "      <th>252</th>\n",
       "      <td>3</td>\n",
       "      <td>3</td>\n",
       "      <td>client</td>\n",
       "      <td>Да удобно</td>\n",
       "      <td>[Да, удобно]</td>\n",
       "      <td>None</td>\n",
       "      <td>NaN</td>\n",
       "      <td>None</td>\n",
       "      <td>None</td>\n",
       "    </tr>\n",
       "    <tr>\n",
       "      <th>253</th>\n",
       "      <td>3</td>\n",
       "      <td>4</td>\n",
       "      <td>manager</td>\n",
       "      <td>Да дмитрий вот мне моя коллега анастасия подск...</td>\n",
       "      <td>[Да, дмитрий, вот, мне, моя, коллега, анастаси...</td>\n",
       "      <td>None</td>\n",
       "      <td>NaN</td>\n",
       "      <td>None</td>\n",
       "      <td>None</td>\n",
       "    </tr>\n",
       "  </tbody>\n",
       "</table>\n",
       "</div>"
      ],
      "text/plain": [
       "     dlg_id  line_n     role  \\\n",
       "249       3       0   client   \n",
       "250       3       1  manager   \n",
       "251       3       2  manager   \n",
       "252       3       3   client   \n",
       "253       3       4  manager   \n",
       "\n",
       "                                                  text  \\\n",
       "249                                        Добрый день   \n",
       "250                           Алло дмитрий добрый день   \n",
       "251  Добрый меня максим зовут компания китобизнес у...   \n",
       "252                                          Да удобно   \n",
       "253  Да дмитрий вот мне моя коллега анастасия подск...   \n",
       "\n",
       "                                                tokens  \\\n",
       "249                                     [Добрый, день]   \n",
       "250                      [Алло, дмитрий, добрый, день]   \n",
       "251  [Добрый, меня, максим, зовут, компания, китоби...   \n",
       "252                                       [Да, удобно]   \n",
       "253  [Да, дмитрий, вот, мне, моя, коллега, анастаси...   \n",
       "\n",
       "                                               phrases  requirement  name  \\\n",
       "249                                               None          NaN  None   \n",
       "250           (приветствие:, Алло дмитрий добрый день)          1.0  None   \n",
       "251  (менеджер представился:, Добрый меня максим зо...          NaN  None   \n",
       "252                                               None          NaN  None   \n",
       "253                                               None          NaN  None   \n",
       "\n",
       "      name1  \n",
       "249    None  \n",
       "250    None  \n",
       "251  максим  \n",
       "252    None  \n",
       "253    None  "
      ]
     },
     "execution_count": 19,
     "metadata": {},
     "output_type": "execute_result"
    }
   ],
   "source": [
    "df.query('dlg_id==3').head()"
   ]
  },
  {
   "cell_type": "code",
   "execution_count": 20,
   "id": "6da90ce7",
   "metadata": {},
   "outputs": [
    {
     "data": {
      "text/plain": [
       "array([None, 'ангелина', 'анастасия'], dtype=object)"
      ]
     },
     "execution_count": 20,
     "metadata": {},
     "output_type": "execute_result"
    }
   ],
   "source": [
    "df['name'].unique()"
   ]
  },
  {
   "cell_type": "code",
   "execution_count": 21,
   "id": "ab8c1fa4",
   "metadata": {},
   "outputs": [
    {
     "data": {
      "text/plain": [
       "array([None, 'максим'], dtype=object)"
      ]
     },
     "execution_count": 21,
     "metadata": {},
     "output_type": "execute_result"
    }
   ],
   "source": [
    "df['name1'].unique()"
   ]
  },
  {
   "cell_type": "markdown",
   "id": "387a9698",
   "metadata": {},
   "source": [
    "## Название компании"
   ]
  },
  {
   "cell_type": "code",
   "execution_count": 22,
   "id": "1f436541",
   "metadata": {},
   "outputs": [],
   "source": [
    "def company (row):\n",
    "    for i in row['tokens']:\n",
    "        if i =='диджитал':\n",
    "            return 'диджитал бизнес'\n",
    "       \n",
    "        elif i=='китобизнес':\n",
    "            return 'китобизнес'\n",
    "            \n",
    "        \n",
    "           "
   ]
  },
  {
   "cell_type": "code",
   "execution_count": 23,
   "id": "fe00b2dc",
   "metadata": {},
   "outputs": [],
   "source": [
    "df['company']=df.apply(company, axis=1)"
   ]
  },
  {
   "cell_type": "code",
   "execution_count": 24,
   "id": "31c7ac8a",
   "metadata": {
    "scrolled": true
   },
   "outputs": [
    {
     "data": {
      "text/html": [
       "<div>\n",
       "<style scoped>\n",
       "    .dataframe tbody tr th:only-of-type {\n",
       "        vertical-align: middle;\n",
       "    }\n",
       "\n",
       "    .dataframe tbody tr th {\n",
       "        vertical-align: top;\n",
       "    }\n",
       "\n",
       "    .dataframe thead th {\n",
       "        text-align: right;\n",
       "    }\n",
       "</style>\n",
       "<table border=\"1\" class=\"dataframe\">\n",
       "  <thead>\n",
       "    <tr style=\"text-align: right;\">\n",
       "      <th></th>\n",
       "      <th>dlg_id</th>\n",
       "      <th>line_n</th>\n",
       "      <th>role</th>\n",
       "      <th>text</th>\n",
       "      <th>tokens</th>\n",
       "      <th>phrases</th>\n",
       "      <th>requirement</th>\n",
       "      <th>name</th>\n",
       "      <th>name1</th>\n",
       "      <th>company</th>\n",
       "    </tr>\n",
       "  </thead>\n",
       "  <tbody>\n",
       "    <tr>\n",
       "      <th>0</th>\n",
       "      <td>0</td>\n",
       "      <td>0</td>\n",
       "      <td>client</td>\n",
       "      <td>Алло</td>\n",
       "      <td>[Алло]</td>\n",
       "      <td>None</td>\n",
       "      <td>NaN</td>\n",
       "      <td>None</td>\n",
       "      <td>None</td>\n",
       "      <td>None</td>\n",
       "    </tr>\n",
       "    <tr>\n",
       "      <th>1</th>\n",
       "      <td>0</td>\n",
       "      <td>1</td>\n",
       "      <td>manager</td>\n",
       "      <td>Алло здравствуйте</td>\n",
       "      <td>[Алло, здравствуйте]</td>\n",
       "      <td>(приветствие:, Алло здравствуйте)</td>\n",
       "      <td>1.0</td>\n",
       "      <td>None</td>\n",
       "      <td>None</td>\n",
       "      <td>None</td>\n",
       "    </tr>\n",
       "    <tr>\n",
       "      <th>2</th>\n",
       "      <td>0</td>\n",
       "      <td>2</td>\n",
       "      <td>client</td>\n",
       "      <td>Добрый день</td>\n",
       "      <td>[Добрый, день]</td>\n",
       "      <td>None</td>\n",
       "      <td>NaN</td>\n",
       "      <td>None</td>\n",
       "      <td>None</td>\n",
       "      <td>None</td>\n",
       "    </tr>\n",
       "    <tr>\n",
       "      <th>3</th>\n",
       "      <td>0</td>\n",
       "      <td>3</td>\n",
       "      <td>manager</td>\n",
       "      <td>Меня зовут ангелина компания диджитал бизнес з...</td>\n",
       "      <td>[Меня, зовут, ангелина, компания, диджитал, би...</td>\n",
       "      <td>(менеджер представился:, Меня зовут ангелина к...</td>\n",
       "      <td>NaN</td>\n",
       "      <td>ангелина</td>\n",
       "      <td>None</td>\n",
       "      <td>диджитал бизнес</td>\n",
       "    </tr>\n",
       "    <tr>\n",
       "      <th>4</th>\n",
       "      <td>0</td>\n",
       "      <td>4</td>\n",
       "      <td>client</td>\n",
       "      <td>Ага</td>\n",
       "      <td>[Ага]</td>\n",
       "      <td>None</td>\n",
       "      <td>NaN</td>\n",
       "      <td>None</td>\n",
       "      <td>None</td>\n",
       "      <td>None</td>\n",
       "    </tr>\n",
       "  </tbody>\n",
       "</table>\n",
       "</div>"
      ],
      "text/plain": [
       "   dlg_id  line_n     role                                               text  \\\n",
       "0       0       0   client                                               Алло   \n",
       "1       0       1  manager                                  Алло здравствуйте   \n",
       "2       0       2   client                                        Добрый день   \n",
       "3       0       3  manager  Меня зовут ангелина компания диджитал бизнес з...   \n",
       "4       0       4   client                                                Ага   \n",
       "\n",
       "                                              tokens  \\\n",
       "0                                             [Алло]   \n",
       "1                               [Алло, здравствуйте]   \n",
       "2                                     [Добрый, день]   \n",
       "3  [Меня, зовут, ангелина, компания, диджитал, би...   \n",
       "4                                              [Ага]   \n",
       "\n",
       "                                             phrases  requirement      name  \\\n",
       "0                                               None          NaN      None   \n",
       "1                  (приветствие:, Алло здравствуйте)          1.0      None   \n",
       "2                                               None          NaN      None   \n",
       "3  (менеджер представился:, Меня зовут ангелина к...          NaN  ангелина   \n",
       "4                                               None          NaN      None   \n",
       "\n",
       "  name1          company  \n",
       "0  None             None  \n",
       "1  None             None  \n",
       "2  None             None  \n",
       "3  None  диджитал бизнес  \n",
       "4  None             None  "
      ]
     },
     "execution_count": 24,
     "metadata": {},
     "output_type": "execute_result"
    }
   ],
   "source": [
    "df.head()"
   ]
  },
  {
   "cell_type": "code",
   "execution_count": 25,
   "id": "90d409f2",
   "metadata": {
    "scrolled": false
   },
   "outputs": [
    {
     "data": {
      "text/plain": [
       "array([None, 'диджитал бизнес', 'китобизнес'], dtype=object)"
      ]
     },
     "execution_count": 25,
     "metadata": {},
     "output_type": "execute_result"
    }
   ],
   "source": [
    "df['company'].unique()"
   ]
  },
  {
   "cell_type": "code",
   "execution_count": null,
   "id": "e1c4fa33",
   "metadata": {},
   "outputs": [],
   "source": []
  },
  {
   "cell_type": "code",
   "execution_count": null,
   "id": "2da1e959",
   "metadata": {},
   "outputs": [],
   "source": []
  }
 ],
 "metadata": {
  "kernelspec": {
   "display_name": "Python 3 (ipykernel)",
   "language": "python",
   "name": "python3"
  },
  "language_info": {
   "codemirror_mode": {
    "name": "ipython",
    "version": 3
   },
   "file_extension": ".py",
   "mimetype": "text/x-python",
   "name": "python",
   "nbconvert_exporter": "python",
   "pygments_lexer": "ipython3",
   "version": "3.9.7"
  },
  "toc": {
   "base_numbering": 1,
   "nav_menu": {},
   "number_sections": true,
   "sideBar": true,
   "skip_h1_title": true,
   "title_cell": "Table of Contents",
   "title_sidebar": "Contents",
   "toc_cell": true,
   "toc_position": {},
   "toc_section_display": true,
   "toc_window_display": false
  }
 },
 "nbformat": 4,
 "nbformat_minor": 5
}
